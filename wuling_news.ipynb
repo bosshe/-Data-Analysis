{
 "cells": [
  {
   "cell_type": "code",
   "execution_count": 1,
   "metadata": {},
   "outputs": [],
   "source": [
    "import requests\n",
    "from bs4 import BeautifulSoup"
   ]
  },
  {
   "cell_type": "code",
   "execution_count": 2,
   "metadata": {},
   "outputs": [],
   "source": [
    "def download_page(url):\n",
    "    \"\"\"\n",
    "    下载网页\n",
    "    \"\"\"\n",
    "    headers = {\"User-Agent\": \"Mozilla/5.0 (Windows NT 10.0; Win64; x64; rv:61.0) Gecko/20100101 Firefox/61.0\"}\n",
    "    r = requests.get(url, headers=headers)\n",
    "    return r.text"
   ]
  },
  {
   "cell_type": "code",
   "execution_count": 3,
   "metadata": {},
   "outputs": [],
   "source": [
    "def get_news_list(html):\n",
    "    \"\"\"\n",
    "    解析网页，提取新闻标题及链接\n",
    "    \"\"\"\n",
    "    result = []\n",
    "    soup = BeautifulSoup(html, 'html.parser')\n",
    "    news_list = soup.find('div', class_='news').find_all('li')\n",
    "    for i in news_list:\n",
    "        a_tag = i.find('a')\n",
    "        link = \"http://www.wuling.com.cn/\"+a_tag.get('href')\n",
    "        title = a_tag.get_text()\n",
    "        date = i.find('span').get_text()\n",
    "        result.append((title,link,date))\n",
    "    return result"
   ]
  },
  {
   "cell_type": "code",
   "execution_count": 5,
   "metadata": {},
   "outputs": [
    {
     "name": "stdout",
     "output_type": "stream",
     "text": [
      "坚决打赢疫情防控狙击战(2020-01-30) http://www.wuling.com.cn/jtxw_view.aspx?id=564\n",
      "广西汽车集团有限公司专用车及非道路车迁建项目环境影响评价第一次公示(2020-01-21) http://www.wuling.com.cn/jtxw_view.aspx?id=562\n",
      "广西汽车集团荣获全国智慧企业建设创新实践案例(2020-01-18) http://www.wuling.com.cn/jtxw_view.aspx?id=563\n",
      "汽车集团韦宏文董事长作为政协委员代表热议政府工作报告(2020-01-13) http://www.wuling.com.cn/jtxw_view.aspx?id=561\n",
      "新年传喜讯，集团“工匠”队伍再添新军(2020-01-04) http://www.wuling.com.cn/jtxw_view.aspx?id=559\n",
      "集团召开2020年工作启动会(2020-01-03) http://www.wuling.com.cn/jtxw_view.aspx?id=560\n",
      "五菱非道路车第4000台正式下线(2019-12-28) http://www.wuling.com.cn/jtxw_view.aspx?id=556\n",
      "披上战甲再远航，印尼公司通过国际汽车质量管理体系认证(2019-12-27) http://www.wuling.com.cn/jtxw_view.aspx?id=557\n",
      "广西汽车集团成为柳州首家获得区级科技企业孵化器企业(2019-12-19) http://www.wuling.com.cn/jtxw_view.aspx?id=554\n",
      "广西汽车集团成为获得首批数字广西建设示范项目企业(2019-11-22) http://www.wuling.com.cn/jtxw_view.aspx?id=552\n"
     ]
    }
   ],
   "source": [
    "html = download_page(\"http://www.wuling.com.cn/jtxw.aspx\")\n",
    "result = get_news_list(html)\n",
    "for news in result:\n",
    "    print(\"{}({}) {}\".format(news[0],news[2],news[1]))\n",
    "    content = download_page(news[1])\n",
    "    path=r\"C:\\data\\news\\{}_{}.html\".format(news[0],news[2])\n",
    "    with open(path, 'wb') as f:\n",
    "        f.write(content.encode(\"utf-8\"))"
   ]
  },
  {
   "cell_type": "code",
   "execution_count": null,
   "metadata": {},
   "outputs": [],
   "source": [
    "content = download_page(\"http://www.wuling.com.cn/jtxw_view.aspx?id=562\")\n",
    "path=r\"C:\\data\\news\\{}_{}.html\".format(news[0],news[2])\n",
    "with open(path, 'wb') as f:\n",
    "    f.write(content.encode(\"utf-8\"))"
   ]
  },
  {
   "cell_type": "code",
   "execution_count": null,
   "metadata": {},
   "outputs": [],
   "source": []
  }
 ],
 "metadata": {
  "kernelspec": {
   "display_name": "Python 3",
   "language": "python",
   "name": "python3"
  },
  "language_info": {
   "codemirror_mode": {
    "name": "ipython",
    "version": 3
   },
   "file_extension": ".py",
   "mimetype": "text/x-python",
   "name": "python",
   "nbconvert_exporter": "python",
   "pygments_lexer": "ipython3",
   "version": "3.7.0"
  }
 },
 "nbformat": 4,
 "nbformat_minor": 2
}
